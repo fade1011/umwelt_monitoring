{
 "cells": [
  {
   "cell_type": "code",
   "execution_count": 1,
   "metadata": {},
   "outputs": [],
   "source": [
    "import numpy as np\n",
    "from tensorflow.keras.models import Sequential\n",
    "from tensorflow.keras.layers import LSTM, Bidirectional\n",
    "from tensorflow.keras.layers import Dense, Dropout\n",
    "import pandas as pd\n",
    "from matplotlib import pyplot as plt\n",
    "from sklearn.preprocessing import MinMaxScaler\n",
    "import seaborn as sns\n",
    "import sqlite3\n",
    "from datetime import datetime\n",
    "from sklearn.model_selection import GridSearchCV\n",
    "from datetime import timedelta\n",
    "import joblib\n",
    "from keras import backend as K\n",
    "import pickle"
   ]
  },
  {
   "cell_type": "code",
   "execution_count": 2,
   "metadata": {},
   "outputs": [
    {
     "data": {
      "text/html": [
       "<div>\n",
       "<style scoped>\n",
       "    .dataframe tbody tr th:only-of-type {\n",
       "        vertical-align: middle;\n",
       "    }\n",
       "\n",
       "    .dataframe tbody tr th {\n",
       "        vertical-align: top;\n",
       "    }\n",
       "\n",
       "    .dataframe thead th {\n",
       "        text-align: right;\n",
       "    }\n",
       "</style>\n",
       "<table border=\"1\" class=\"dataframe\">\n",
       "  <thead>\n",
       "    <tr style=\"text-align: right;\">\n",
       "      <th></th>\n",
       "      <th>createdAt</th>\n",
       "      <th>Temperatur</th>\n",
       "      <th>rel_Luftfeuchte</th>\n",
       "      <th>Luftdruck</th>\n",
       "      <th>Bodenfeuchte</th>\n",
       "      <th>Bodentemperatur</th>\n",
       "      <th>Licht</th>\n",
       "      <th>UV_Index</th>\n",
       "      <th>PM25</th>\n",
       "      <th>PM10</th>\n",
       "      <th>station</th>\n",
       "    </tr>\n",
       "  </thead>\n",
       "  <tbody>\n",
       "    <tr>\n",
       "      <th>0</th>\n",
       "      <td>2022-09-28T00:00:40.694Z</td>\n",
       "      <td>7.96</td>\n",
       "      <td>99.99</td>\n",
       "      <td>998.76</td>\n",
       "      <td>26.00</td>\n",
       "      <td>17.68</td>\n",
       "      <td>0.0</td>\n",
       "      <td>0.0</td>\n",
       "      <td>6.6</td>\n",
       "      <td>1.4</td>\n",
       "      <td>WetterBrg</td>\n",
       "    </tr>\n",
       "    <tr>\n",
       "      <th>1</th>\n",
       "      <td>2022-09-28T00:01:40.707Z</td>\n",
       "      <td>7.95</td>\n",
       "      <td>99.99</td>\n",
       "      <td>998.82</td>\n",
       "      <td>26.10</td>\n",
       "      <td>10.26</td>\n",
       "      <td>0.0</td>\n",
       "      <td>0.0</td>\n",
       "      <td>3.1</td>\n",
       "      <td>1.3</td>\n",
       "      <td>WetterBrg</td>\n",
       "    </tr>\n",
       "    <tr>\n",
       "      <th>2</th>\n",
       "      <td>2022-09-28T00:02:40.751Z</td>\n",
       "      <td>7.95</td>\n",
       "      <td>99.99</td>\n",
       "      <td>998.82</td>\n",
       "      <td>25.78</td>\n",
       "      <td>10.59</td>\n",
       "      <td>0.0</td>\n",
       "      <td>0.0</td>\n",
       "      <td>3.4</td>\n",
       "      <td>1.3</td>\n",
       "      <td>WetterBrg</td>\n",
       "    </tr>\n",
       "    <tr>\n",
       "      <th>3</th>\n",
       "      <td>2022-09-28T00:03:40.645Z</td>\n",
       "      <td>7.95</td>\n",
       "      <td>99.99</td>\n",
       "      <td>998.81</td>\n",
       "      <td>26.16</td>\n",
       "      <td>11.23</td>\n",
       "      <td>0.0</td>\n",
       "      <td>0.0</td>\n",
       "      <td>4.9</td>\n",
       "      <td>1.6</td>\n",
       "      <td>WetterBrg</td>\n",
       "    </tr>\n",
       "    <tr>\n",
       "      <th>4</th>\n",
       "      <td>2022-09-28T00:04:40.589Z</td>\n",
       "      <td>7.95</td>\n",
       "      <td>99.99</td>\n",
       "      <td>998.79</td>\n",
       "      <td>25.83</td>\n",
       "      <td>4.79</td>\n",
       "      <td>0.0</td>\n",
       "      <td>0.0</td>\n",
       "      <td>2.2</td>\n",
       "      <td>1.3</td>\n",
       "      <td>WetterBrg</td>\n",
       "    </tr>\n",
       "    <tr>\n",
       "      <th>...</th>\n",
       "      <td>...</td>\n",
       "      <td>...</td>\n",
       "      <td>...</td>\n",
       "      <td>...</td>\n",
       "      <td>...</td>\n",
       "      <td>...</td>\n",
       "      <td>...</td>\n",
       "      <td>...</td>\n",
       "      <td>...</td>\n",
       "      <td>...</td>\n",
       "      <td>...</td>\n",
       "    </tr>\n",
       "    <tr>\n",
       "      <th>2697978</th>\n",
       "      <td>2024-06-21T23:55:11.185Z</td>\n",
       "      <td>16.68</td>\n",
       "      <td>99.99</td>\n",
       "      <td>979.72</td>\n",
       "      <td>11.23</td>\n",
       "      <td>17.03</td>\n",
       "      <td>0.0</td>\n",
       "      <td>0.0</td>\n",
       "      <td>1.2</td>\n",
       "      <td>5.6</td>\n",
       "      <td>PoS</td>\n",
       "    </tr>\n",
       "    <tr>\n",
       "      <th>2697979</th>\n",
       "      <td>2024-06-21T23:56:11.159Z</td>\n",
       "      <td>16.70</td>\n",
       "      <td>99.99</td>\n",
       "      <td>979.70</td>\n",
       "      <td>11.28</td>\n",
       "      <td>19.93</td>\n",
       "      <td>0.0</td>\n",
       "      <td>0.0</td>\n",
       "      <td>0.8</td>\n",
       "      <td>1.5</td>\n",
       "      <td>PoS</td>\n",
       "    </tr>\n",
       "    <tr>\n",
       "      <th>2697980</th>\n",
       "      <td>2024-06-21T23:57:11.199Z</td>\n",
       "      <td>16.67</td>\n",
       "      <td>99.99</td>\n",
       "      <td>979.67</td>\n",
       "      <td>11.12</td>\n",
       "      <td>15.42</td>\n",
       "      <td>0.0</td>\n",
       "      <td>0.0</td>\n",
       "      <td>1.0</td>\n",
       "      <td>4.7</td>\n",
       "      <td>PoS</td>\n",
       "    </tr>\n",
       "    <tr>\n",
       "      <th>2697981</th>\n",
       "      <td>2024-06-21T23:58:11.142Z</td>\n",
       "      <td>16.67</td>\n",
       "      <td>99.99</td>\n",
       "      <td>979.69</td>\n",
       "      <td>11.23</td>\n",
       "      <td>17.68</td>\n",
       "      <td>0.0</td>\n",
       "      <td>0.0</td>\n",
       "      <td>0.9</td>\n",
       "      <td>1.7</td>\n",
       "      <td>PoS</td>\n",
       "    </tr>\n",
       "    <tr>\n",
       "      <th>2697982</th>\n",
       "      <td>2024-06-21T23:59:11.124Z</td>\n",
       "      <td>16.70</td>\n",
       "      <td>99.99</td>\n",
       "      <td>979.66</td>\n",
       "      <td>11.17</td>\n",
       "      <td>17.68</td>\n",
       "      <td>0.0</td>\n",
       "      <td>0.0</td>\n",
       "      <td>0.9</td>\n",
       "      <td>2.7</td>\n",
       "      <td>PoS</td>\n",
       "    </tr>\n",
       "  </tbody>\n",
       "</table>\n",
       "<p>2697983 rows × 11 columns</p>\n",
       "</div>"
      ],
      "text/plain": [
       "                        createdAt  Temperatur  rel_Luftfeuchte  Luftdruck   \n",
       "0        2022-09-28T00:00:40.694Z        7.96            99.99     998.76  \\\n",
       "1        2022-09-28T00:01:40.707Z        7.95            99.99     998.82   \n",
       "2        2022-09-28T00:02:40.751Z        7.95            99.99     998.82   \n",
       "3        2022-09-28T00:03:40.645Z        7.95            99.99     998.81   \n",
       "4        2022-09-28T00:04:40.589Z        7.95            99.99     998.79   \n",
       "...                           ...         ...              ...        ...   \n",
       "2697978  2024-06-21T23:55:11.185Z       16.68            99.99     979.72   \n",
       "2697979  2024-06-21T23:56:11.159Z       16.70            99.99     979.70   \n",
       "2697980  2024-06-21T23:57:11.199Z       16.67            99.99     979.67   \n",
       "2697981  2024-06-21T23:58:11.142Z       16.67            99.99     979.69   \n",
       "2697982  2024-06-21T23:59:11.124Z       16.70            99.99     979.66   \n",
       "\n",
       "         Bodenfeuchte  Bodentemperatur  Licht  UV_Index  PM25  PM10    station  \n",
       "0               26.00            17.68    0.0       0.0   6.6   1.4  WetterBrg  \n",
       "1               26.10            10.26    0.0       0.0   3.1   1.3  WetterBrg  \n",
       "2               25.78            10.59    0.0       0.0   3.4   1.3  WetterBrg  \n",
       "3               26.16            11.23    0.0       0.0   4.9   1.6  WetterBrg  \n",
       "4               25.83             4.79    0.0       0.0   2.2   1.3  WetterBrg  \n",
       "...               ...              ...    ...       ...   ...   ...        ...  \n",
       "2697978         11.23            17.03    0.0       0.0   1.2   5.6        PoS  \n",
       "2697979         11.28            19.93    0.0       0.0   0.8   1.5        PoS  \n",
       "2697980         11.12            15.42    0.0       0.0   1.0   4.7        PoS  \n",
       "2697981         11.23            17.68    0.0       0.0   0.9   1.7        PoS  \n",
       "2697982         11.17            17.68    0.0       0.0   0.9   2.7        PoS  \n",
       "\n",
       "[2697983 rows x 11 columns]"
      ]
     },
     "execution_count": 2,
     "metadata": {},
     "output_type": "execute_result"
    }
   ],
   "source": [
    "db_file = 'Daten/sensor_daten.sqlite'\n",
    "conn = sqlite3.connect(db_file)\n",
    "\n",
    "query = \"SELECT * FROM WeatherData\"\n",
    "\n",
    "df_start = pd.read_sql_query(query, conn)\n",
    "\n",
    "conn.close()\n",
    "df_start"
   ]
  },
  {
   "cell_type": "code",
   "execution_count": 3,
   "metadata": {},
   "outputs": [],
   "source": [
    "df_start.station.value_counts()\n",
    "df_start_w = df_start[df_start['station'] == 'Wald der Zukunft - Stadtbergen']\n",
    "df_start_new= df_start_w.drop(columns=['station', 'UV_Index'])"
   ]
  },
  {
   "cell_type": "code",
   "execution_count": 4,
   "metadata": {},
   "outputs": [],
   "source": [
    "thresholds = {\n",
    "    'Temperatur': (-50, 60), # Grenzwerte gewählt, da es  Messungen bis 950°C gab\n",
    "    'Luftdruck': (950, 1060), # ungefähr die minimale und maximale jemals in DE gemessenen Werte\n",
    "    'Bodenfeuchte': (0, 150), # Bodenfeuchte in %, bei starkem Regen können die Werte kurzfristig über 100% steigen\n",
    "    'Bodentemperatur': (-50, 60), # es gab zum Teil Messungen von 360 Tsd.°C\n",
    "}\n",
    "\n",
    "filtered_df = df_start_new.apply(lambda col: col.where((col >= thresholds[col.name][0]) & (col <= thresholds[col.name][1]), np.nan) \n",
    "              if col.name in thresholds else col)"
   ]
  },
  {
   "cell_type": "code",
   "execution_count": 5,
   "metadata": {},
   "outputs": [],
   "source": [
    "df_start_new['createdAt'] = pd.to_datetime(df_start_new['createdAt'], format=('%Y-%m-%dT%H:%M:%S.%fZ')).dt.floor('S')"
   ]
  },
  {
   "cell_type": "code",
   "execution_count": 6,
   "metadata": {},
   "outputs": [
    {
     "data": {
      "text/html": [
       "<div>\n",
       "<style scoped>\n",
       "    .dataframe tbody tr th:only-of-type {\n",
       "        vertical-align: middle;\n",
       "    }\n",
       "\n",
       "    .dataframe tbody tr th {\n",
       "        vertical-align: top;\n",
       "    }\n",
       "\n",
       "    .dataframe thead th {\n",
       "        text-align: right;\n",
       "    }\n",
       "</style>\n",
       "<table border=\"1\" class=\"dataframe\">\n",
       "  <thead>\n",
       "    <tr style=\"text-align: right;\">\n",
       "      <th></th>\n",
       "      <th>createdAt</th>\n",
       "      <th>Temperatur</th>\n",
       "      <th>rel_Luftfeuchte</th>\n",
       "      <th>Luftdruck</th>\n",
       "      <th>Bodenfeuchte</th>\n",
       "      <th>Bodentemperatur</th>\n",
       "      <th>Licht</th>\n",
       "      <th>PM25</th>\n",
       "      <th>PM10</th>\n",
       "    </tr>\n",
       "  </thead>\n",
       "  <tbody>\n",
       "    <tr>\n",
       "      <th>0</th>\n",
       "      <td>2022-09-28 00:00:00</td>\n",
       "      <td>7.711</td>\n",
       "      <td>99.990</td>\n",
       "      <td>997.006</td>\n",
       "      <td>3.204</td>\n",
       "      <td>10.589</td>\n",
       "      <td>0.000</td>\n",
       "      <td>0.555</td>\n",
       "      <td>1.358</td>\n",
       "    </tr>\n",
       "    <tr>\n",
       "      <th>1</th>\n",
       "      <td>2022-09-28 01:00:00</td>\n",
       "      <td>7.761</td>\n",
       "      <td>99.990</td>\n",
       "      <td>995.855</td>\n",
       "      <td>3.181</td>\n",
       "      <td>10.583</td>\n",
       "      <td>0.000</td>\n",
       "      <td>0.593</td>\n",
       "      <td>1.854</td>\n",
       "    </tr>\n",
       "    <tr>\n",
       "      <th>2</th>\n",
       "      <td>2022-09-28 02:00:00</td>\n",
       "      <td>7.656</td>\n",
       "      <td>99.990</td>\n",
       "      <td>994.592</td>\n",
       "      <td>3.194</td>\n",
       "      <td>10.902</td>\n",
       "      <td>0.000</td>\n",
       "      <td>0.625</td>\n",
       "      <td>2.109</td>\n",
       "    </tr>\n",
       "    <tr>\n",
       "      <th>3</th>\n",
       "      <td>2022-09-28 03:00:00</td>\n",
       "      <td>8.101</td>\n",
       "      <td>99.931</td>\n",
       "      <td>993.930</td>\n",
       "      <td>3.223</td>\n",
       "      <td>11.101</td>\n",
       "      <td>0.000</td>\n",
       "      <td>0.596</td>\n",
       "      <td>1.932</td>\n",
       "    </tr>\n",
       "    <tr>\n",
       "      <th>4</th>\n",
       "      <td>2022-09-28 04:00:00</td>\n",
       "      <td>7.967</td>\n",
       "      <td>99.975</td>\n",
       "      <td>993.180</td>\n",
       "      <td>3.228</td>\n",
       "      <td>11.315</td>\n",
       "      <td>0.000</td>\n",
       "      <td>0.530</td>\n",
       "      <td>1.421</td>\n",
       "    </tr>\n",
       "    <tr>\n",
       "      <th>...</th>\n",
       "      <td>...</td>\n",
       "      <td>...</td>\n",
       "      <td>...</td>\n",
       "      <td>...</td>\n",
       "      <td>...</td>\n",
       "      <td>...</td>\n",
       "      <td>...</td>\n",
       "      <td>...</td>\n",
       "      <td>...</td>\n",
       "    </tr>\n",
       "    <tr>\n",
       "      <th>8267</th>\n",
       "      <td>2024-06-15 02:00:00</td>\n",
       "      <td>13.764</td>\n",
       "      <td>97.415</td>\n",
       "      <td>1008.750</td>\n",
       "      <td>24.348</td>\n",
       "      <td>12.566</td>\n",
       "      <td>0.000</td>\n",
       "      <td>2.487</td>\n",
       "      <td>6.401</td>\n",
       "    </tr>\n",
       "    <tr>\n",
       "      <th>8268</th>\n",
       "      <td>2024-06-15 03:00:00</td>\n",
       "      <td>13.618</td>\n",
       "      <td>98.400</td>\n",
       "      <td>1008.293</td>\n",
       "      <td>24.228</td>\n",
       "      <td>12.575</td>\n",
       "      <td>2.808</td>\n",
       "      <td>2.385</td>\n",
       "      <td>6.301</td>\n",
       "    </tr>\n",
       "    <tr>\n",
       "      <th>8269</th>\n",
       "      <td>2024-06-15 04:00:00</td>\n",
       "      <td>14.093</td>\n",
       "      <td>97.409</td>\n",
       "      <td>1009.938</td>\n",
       "      <td>24.219</td>\n",
       "      <td>12.560</td>\n",
       "      <td>9.169</td>\n",
       "      <td>2.136</td>\n",
       "      <td>5.708</td>\n",
       "    </tr>\n",
       "    <tr>\n",
       "      <th>8270</th>\n",
       "      <td>2024-06-15 05:00:00</td>\n",
       "      <td>14.155</td>\n",
       "      <td>93.245</td>\n",
       "      <td>1012.120</td>\n",
       "      <td>24.250</td>\n",
       "      <td>12.532</td>\n",
       "      <td>14.376</td>\n",
       "      <td>0.810</td>\n",
       "      <td>2.078</td>\n",
       "    </tr>\n",
       "    <tr>\n",
       "      <th>8271</th>\n",
       "      <td>2024-06-15 06:00:00</td>\n",
       "      <td>13.489</td>\n",
       "      <td>96.680</td>\n",
       "      <td>1013.099</td>\n",
       "      <td>24.285</td>\n",
       "      <td>12.625</td>\n",
       "      <td>11.471</td>\n",
       "      <td>0.417</td>\n",
       "      <td>0.643</td>\n",
       "    </tr>\n",
       "  </tbody>\n",
       "</table>\n",
       "<p>8272 rows × 9 columns</p>\n",
       "</div>"
      ],
      "text/plain": [
       "               createdAt  Temperatur  rel_Luftfeuchte  Luftdruck   \n",
       "0    2022-09-28 00:00:00       7.711           99.990    997.006  \\\n",
       "1    2022-09-28 01:00:00       7.761           99.990    995.855   \n",
       "2    2022-09-28 02:00:00       7.656           99.990    994.592   \n",
       "3    2022-09-28 03:00:00       8.101           99.931    993.930   \n",
       "4    2022-09-28 04:00:00       7.967           99.975    993.180   \n",
       "...                  ...         ...              ...        ...   \n",
       "8267 2024-06-15 02:00:00      13.764           97.415   1008.750   \n",
       "8268 2024-06-15 03:00:00      13.618           98.400   1008.293   \n",
       "8269 2024-06-15 04:00:00      14.093           97.409   1009.938   \n",
       "8270 2024-06-15 05:00:00      14.155           93.245   1012.120   \n",
       "8271 2024-06-15 06:00:00      13.489           96.680   1013.099   \n",
       "\n",
       "      Bodenfeuchte  Bodentemperatur   Licht   PM25   PM10  \n",
       "0            3.204           10.589   0.000  0.555  1.358  \n",
       "1            3.181           10.583   0.000  0.593  1.854  \n",
       "2            3.194           10.902   0.000  0.625  2.109  \n",
       "3            3.223           11.101   0.000  0.596  1.932  \n",
       "4            3.228           11.315   0.000  0.530  1.421  \n",
       "...            ...              ...     ...    ...    ...  \n",
       "8267        24.348           12.566   0.000  2.487  6.401  \n",
       "8268        24.228           12.575   2.808  2.385  6.301  \n",
       "8269        24.219           12.560   9.169  2.136  5.708  \n",
       "8270        24.250           12.532  14.376  0.810  2.078  \n",
       "8271        24.285           12.625  11.471  0.417  0.643  \n",
       "\n",
       "[8272 rows x 9 columns]"
      ]
     },
     "execution_count": 6,
     "metadata": {},
     "output_type": "execute_result"
    }
   ],
   "source": [
    "df_start_new['createdAt'] = pd.to_datetime(df_start_new['createdAt'])\n",
    "df_start_new['createdAt'] = df_start_new['createdAt'].dt.floor('H')\n",
    "df_hourly = df_start_new.groupby('createdAt').mean().reset_index()\n",
    "df_hourly = df_hourly.round(3)\n",
    "df_hourly"
   ]
  },
  {
   "cell_type": "code",
   "execution_count": 7,
   "metadata": {},
   "outputs": [
    {
     "data": {
      "text/plain": [
       "0      2022-09-28 00:00:00\n",
       "1      2022-09-28 01:00:00\n",
       "2      2022-09-28 02:00:00\n",
       "3      2022-09-28 03:00:00\n",
       "4      2022-09-28 04:00:00\n",
       "               ...        \n",
       "8267   2024-06-15 02:00:00\n",
       "8268   2024-06-15 03:00:00\n",
       "8269   2024-06-15 04:00:00\n",
       "8270   2024-06-15 05:00:00\n",
       "8271   2024-06-15 06:00:00\n",
       "Name: createdAt, Length: 8272, dtype: datetime64[ns]"
      ]
     },
     "execution_count": 7,
     "metadata": {},
     "output_type": "execute_result"
    }
   ],
   "source": [
    "train_dates = pd.to_datetime(df_hourly['createdAt'])\n",
    "train_dates"
   ]
  },
  {
   "cell_type": "code",
   "execution_count": 8,
   "metadata": {},
   "outputs": [
    {
     "name": "stdout",
     "output_type": "stream",
     "text": [
      "['Temperatur', 'rel_Luftfeuchte', 'Luftdruck', 'Bodenfeuchte', 'Bodentemperatur', 'Licht', 'PM25']\n"
     ]
    },
    {
     "data": {
      "text/html": [
       "<div>\n",
       "<style scoped>\n",
       "    .dataframe tbody tr th:only-of-type {\n",
       "        vertical-align: middle;\n",
       "    }\n",
       "\n",
       "    .dataframe tbody tr th {\n",
       "        vertical-align: top;\n",
       "    }\n",
       "\n",
       "    .dataframe thead th {\n",
       "        text-align: right;\n",
       "    }\n",
       "</style>\n",
       "<table border=\"1\" class=\"dataframe\">\n",
       "  <thead>\n",
       "    <tr style=\"text-align: right;\">\n",
       "      <th></th>\n",
       "      <th>Temperatur</th>\n",
       "      <th>rel_Luftfeuchte</th>\n",
       "      <th>Luftdruck</th>\n",
       "      <th>Bodenfeuchte</th>\n",
       "      <th>Bodentemperatur</th>\n",
       "      <th>Licht</th>\n",
       "      <th>PM25</th>\n",
       "    </tr>\n",
       "  </thead>\n",
       "  <tbody>\n",
       "    <tr>\n",
       "      <th>0</th>\n",
       "      <td>7.711</td>\n",
       "      <td>99.990</td>\n",
       "      <td>997.006</td>\n",
       "      <td>3.204</td>\n",
       "      <td>10.589</td>\n",
       "      <td>0.000</td>\n",
       "      <td>0.555</td>\n",
       "    </tr>\n",
       "    <tr>\n",
       "      <th>1</th>\n",
       "      <td>7.761</td>\n",
       "      <td>99.990</td>\n",
       "      <td>995.855</td>\n",
       "      <td>3.181</td>\n",
       "      <td>10.583</td>\n",
       "      <td>0.000</td>\n",
       "      <td>0.593</td>\n",
       "    </tr>\n",
       "    <tr>\n",
       "      <th>2</th>\n",
       "      <td>7.656</td>\n",
       "      <td>99.990</td>\n",
       "      <td>994.592</td>\n",
       "      <td>3.194</td>\n",
       "      <td>10.902</td>\n",
       "      <td>0.000</td>\n",
       "      <td>0.625</td>\n",
       "    </tr>\n",
       "    <tr>\n",
       "      <th>3</th>\n",
       "      <td>8.101</td>\n",
       "      <td>99.931</td>\n",
       "      <td>993.930</td>\n",
       "      <td>3.223</td>\n",
       "      <td>11.101</td>\n",
       "      <td>0.000</td>\n",
       "      <td>0.596</td>\n",
       "    </tr>\n",
       "    <tr>\n",
       "      <th>4</th>\n",
       "      <td>7.967</td>\n",
       "      <td>99.975</td>\n",
       "      <td>993.180</td>\n",
       "      <td>3.228</td>\n",
       "      <td>11.315</td>\n",
       "      <td>0.000</td>\n",
       "      <td>0.530</td>\n",
       "    </tr>\n",
       "    <tr>\n",
       "      <th>...</th>\n",
       "      <td>...</td>\n",
       "      <td>...</td>\n",
       "      <td>...</td>\n",
       "      <td>...</td>\n",
       "      <td>...</td>\n",
       "      <td>...</td>\n",
       "      <td>...</td>\n",
       "    </tr>\n",
       "    <tr>\n",
       "      <th>8267</th>\n",
       "      <td>13.764</td>\n",
       "      <td>97.415</td>\n",
       "      <td>1008.750</td>\n",
       "      <td>24.348</td>\n",
       "      <td>12.566</td>\n",
       "      <td>0.000</td>\n",
       "      <td>2.487</td>\n",
       "    </tr>\n",
       "    <tr>\n",
       "      <th>8268</th>\n",
       "      <td>13.618</td>\n",
       "      <td>98.400</td>\n",
       "      <td>1008.293</td>\n",
       "      <td>24.228</td>\n",
       "      <td>12.575</td>\n",
       "      <td>2.808</td>\n",
       "      <td>2.385</td>\n",
       "    </tr>\n",
       "    <tr>\n",
       "      <th>8269</th>\n",
       "      <td>14.093</td>\n",
       "      <td>97.409</td>\n",
       "      <td>1009.938</td>\n",
       "      <td>24.219</td>\n",
       "      <td>12.560</td>\n",
       "      <td>9.169</td>\n",
       "      <td>2.136</td>\n",
       "    </tr>\n",
       "    <tr>\n",
       "      <th>8270</th>\n",
       "      <td>14.155</td>\n",
       "      <td>93.245</td>\n",
       "      <td>1012.120</td>\n",
       "      <td>24.250</td>\n",
       "      <td>12.532</td>\n",
       "      <td>14.376</td>\n",
       "      <td>0.810</td>\n",
       "    </tr>\n",
       "    <tr>\n",
       "      <th>8271</th>\n",
       "      <td>13.489</td>\n",
       "      <td>96.680</td>\n",
       "      <td>1013.099</td>\n",
       "      <td>24.285</td>\n",
       "      <td>12.625</td>\n",
       "      <td>11.471</td>\n",
       "      <td>0.417</td>\n",
       "    </tr>\n",
       "  </tbody>\n",
       "</table>\n",
       "<p>8272 rows × 7 columns</p>\n",
       "</div>"
      ],
      "text/plain": [
       "      Temperatur  rel_Luftfeuchte  Luftdruck  Bodenfeuchte  Bodentemperatur   \n",
       "0          7.711           99.990    997.006         3.204           10.589  \\\n",
       "1          7.761           99.990    995.855         3.181           10.583   \n",
       "2          7.656           99.990    994.592         3.194           10.902   \n",
       "3          8.101           99.931    993.930         3.223           11.101   \n",
       "4          7.967           99.975    993.180         3.228           11.315   \n",
       "...          ...              ...        ...           ...              ...   \n",
       "8267      13.764           97.415   1008.750        24.348           12.566   \n",
       "8268      13.618           98.400   1008.293        24.228           12.575   \n",
       "8269      14.093           97.409   1009.938        24.219           12.560   \n",
       "8270      14.155           93.245   1012.120        24.250           12.532   \n",
       "8271      13.489           96.680   1013.099        24.285           12.625   \n",
       "\n",
       "       Licht   PM25  \n",
       "0      0.000  0.555  \n",
       "1      0.000  0.593  \n",
       "2      0.000  0.625  \n",
       "3      0.000  0.596  \n",
       "4      0.000  0.530  \n",
       "...      ...    ...  \n",
       "8267   0.000  2.487  \n",
       "8268   2.808  2.385  \n",
       "8269   9.169  2.136  \n",
       "8270  14.376  0.810  \n",
       "8271  11.471  0.417  \n",
       "\n",
       "[8272 rows x 7 columns]"
      ]
     },
     "execution_count": 8,
     "metadata": {},
     "output_type": "execute_result"
    }
   ],
   "source": [
    "cols = list(df_hourly)[1:8]\n",
    "\n",
    "print(cols) \n",
    "\n",
    "df_for_training = df_hourly[cols].astype(float)\n",
    "\n",
    "swap_index = 0\n",
    "# get a list of the columns\n",
    "col_list = list(df_for_training)\n",
    "# use this handy way to swap the elements\n",
    "col_list[0], col_list[swap_index] = col_list[swap_index], col_list[0]\n",
    "# assign back, the order will now be swapped\n",
    "df_for_training.columns = col_list\n",
    "df_for_training"
   ]
  },
  {
   "cell_type": "code",
   "execution_count": 9,
   "metadata": {},
   "outputs": [],
   "source": [
    "# class StandardScaler:\n",
    "#     scales: dict\n",
    "\n",
    "#     def __init__(self, scales):\n",
    "#         self.scales = scales\n",
    "    \n",
    "#     def scale(self, df):\n",
    "#         for column in df:\n",
    "#             if column not in self.scales.keys():\n",
    "#                 continue\n",
    "#             df[column] = (df[column] - self.scales[column][\"mean\"]) / self.scales[column][\"std\"]\n",
    "#         return df\n",
    "    \n",
    "#     def unscale(self, df):\n",
    "#         for column in df:\n",
    "#             if column not in self.scales.keys():\n",
    "#                 continue\n",
    "#             df[column] = df[column] * self.scales[column][\"std\"] + self.scales[column][\"mean\"]\n",
    "#         return df\n",
    "\n",
    "#     @staticmethod\n",
    "#     def fit(df, *skip: str) -> dict:\n",
    "#         scales: dict = dict()\n",
    "#         for column in df:\n",
    "#             if column in skip:\n",
    "#                 continue\n",
    "\n",
    "#             mean = df[column].mean()\n",
    "#             std = df[column].std()\n",
    "#             scales[column] = {\"std\": std, \"mean\": mean}\n",
    "#         return scales"
   ]
  },
  {
   "cell_type": "code",
   "execution_count": 10,
   "metadata": {},
   "outputs": [
    {
     "data": {
      "text/plain": [
       "array([[5.38187690e-02, 1.00000000e+00, 9.61956165e-01, ...,\n",
       "        1.01973333e-02, 0.00000000e+00, 6.94803330e-03],\n",
       "       [5.39520036e-02, 1.00000000e+00, 9.60845629e-01, ...,\n",
       "        1.01920000e-02, 0.00000000e+00, 8.03904680e-03],\n",
       "       [5.36722110e-02, 1.00000000e+00, 9.59627030e-01, ...,\n",
       "        1.04755556e-02, 0.00000000e+00, 8.95779500e-03],\n",
       "       ...,\n",
       "       [7.08248285e-02, 9.65605011e-01, 9.74433540e-01, ...,\n",
       "        1.19493333e-02, 5.02048769e-04, 5.23399368e-02],\n",
       "       [7.09900394e-02, 9.10114606e-01, 9.76538831e-01, ...,\n",
       "        1.19244444e-02, 7.87158152e-04, 1.42693081e-02],\n",
       "       [6.92153550e-02, 9.55890192e-01, 9.77483414e-01, ...,\n",
       "        1.20071111e-02, 6.28094822e-04, 2.98593167e-03]])"
      ]
     },
     "execution_count": 10,
     "metadata": {},
     "output_type": "execute_result"
    }
   ],
   "source": [
    "scaler = MinMaxScaler()\n",
    "scaler = scaler.fit(df_for_training)\n",
    "df_for_training_scaled = scaler.transform(df_for_training)\n",
    "df_for_training_scaled"
   ]
  },
  {
   "cell_type": "code",
   "execution_count": 11,
   "metadata": {},
   "outputs": [],
   "source": [
    "# skales = StandardScaler.fit(df_for_training, \"createdAt\")  #  Fitte das Dictionary an die Daten\n",
    "# ssc = StandardScaler(skales)  #  Lade den Standard Scaler mit getfittetem dict\n",
    "# ssc.scale(df_for_training)  #  scaled das dataframe für die einfabe\n",
    "# ssc.scales  # zeigt die Scales an\n",
    "# df_for_training_scaled = df_for_training.to_numpy()\n",
    "# df_for_training_scaled  "
   ]
  },
  {
   "cell_type": "code",
   "execution_count": 12,
   "metadata": {},
   "outputs": [],
   "source": [
    "trainX = []\n",
    "trainY = []"
   ]
  },
  {
   "cell_type": "code",
   "execution_count": 13,
   "metadata": {},
   "outputs": [],
   "source": [
    "n_future = 24\n",
    "n_past = 30"
   ]
  },
  {
   "cell_type": "code",
   "execution_count": 14,
   "metadata": {},
   "outputs": [],
   "source": [
    "for i in range(n_past, len(df_for_training_scaled) - n_future +1):\n",
    "    trainX.append(df_for_training_scaled[i - n_past:i, 0:df_for_training.shape[1]])\n",
    "    trainY.append(df_for_training_scaled[i + n_future - 1:i + n_future, 0])"
   ]
  },
  {
   "cell_type": "code",
   "execution_count": 15,
   "metadata": {},
   "outputs": [
    {
     "name": "stdout",
     "output_type": "stream",
     "text": [
      "trainX shape == (8219, 30, 7).\n",
      "trainY shape == (8219, 1).\n"
     ]
    }
   ],
   "source": [
    "trainX, trainY = np.array(trainX), np.array(trainY)\n",
    "\n",
    "print('trainX shape == {}.'.format(trainX.shape))\n",
    "print('trainY shape == {}.'.format(trainY.shape))"
   ]
  },
  {
   "cell_type": "code",
   "execution_count": 16,
   "metadata": {},
   "outputs": [
    {
     "name": "stderr",
     "output_type": "stream",
     "text": [
      "c:\\Users\\sven\\AppData\\Local\\Programs\\Python\\Python311\\Lib\\site-packages\\keras\\src\\layers\\rnn\\rnn.py:204: UserWarning: Do not pass an `input_shape`/`input_dim` argument to a layer. When using Sequential models, prefer using an `Input(shape)` object as the first layer in the model instead.\n",
      "  super().__init__(**kwargs)\n"
     ]
    },
    {
     "data": {
      "text/html": [
       "<pre style=\"white-space:pre;overflow-x:auto;line-height:normal;font-family:Menlo,'DejaVu Sans Mono',consolas,'Courier New',monospace\"><span style=\"font-weight: bold\">Model: \"sequential\"</span>\n",
       "</pre>\n"
      ],
      "text/plain": [
       "\u001b[1mModel: \"sequential\"\u001b[0m\n"
      ]
     },
     "metadata": {},
     "output_type": "display_data"
    },
    {
     "data": {
      "text/html": [
       "<pre style=\"white-space:pre;overflow-x:auto;line-height:normal;font-family:Menlo,'DejaVu Sans Mono',consolas,'Courier New',monospace\">┏━━━━━━━━━━━━━━━━━━━━━━━━━━━━━━━━━┳━━━━━━━━━━━━━━━━━━━━━━━━┳━━━━━━━━━━━━━━━┓\n",
       "┃<span style=\"font-weight: bold\"> Layer (type)                    </span>┃<span style=\"font-weight: bold\"> Output Shape           </span>┃<span style=\"font-weight: bold\">       Param # </span>┃\n",
       "┡━━━━━━━━━━━━━━━━━━━━━━━━━━━━━━━━━╇━━━━━━━━━━━━━━━━━━━━━━━━╇━━━━━━━━━━━━━━━┩\n",
       "│ lstm (<span style=\"color: #0087ff; text-decoration-color: #0087ff\">LSTM</span>)                     │ (<span style=\"color: #00d7ff; text-decoration-color: #00d7ff\">None</span>, <span style=\"color: #00af00; text-decoration-color: #00af00\">30</span>, <span style=\"color: #00af00; text-decoration-color: #00af00\">64</span>)         │        <span style=\"color: #00af00; text-decoration-color: #00af00\">18,432</span> │\n",
       "├─────────────────────────────────┼────────────────────────┼───────────────┤\n",
       "│ dropout (<span style=\"color: #0087ff; text-decoration-color: #0087ff\">Dropout</span>)               │ (<span style=\"color: #00d7ff; text-decoration-color: #00d7ff\">None</span>, <span style=\"color: #00af00; text-decoration-color: #00af00\">30</span>, <span style=\"color: #00af00; text-decoration-color: #00af00\">64</span>)         │             <span style=\"color: #00af00; text-decoration-color: #00af00\">0</span> │\n",
       "├─────────────────────────────────┼────────────────────────┼───────────────┤\n",
       "│ bidirectional (<span style=\"color: #0087ff; text-decoration-color: #0087ff\">Bidirectional</span>)   │ (<span style=\"color: #00d7ff; text-decoration-color: #00d7ff\">None</span>, <span style=\"color: #00af00; text-decoration-color: #00af00\">30</span>, <span style=\"color: #00af00; text-decoration-color: #00af00\">64</span>)         │        <span style=\"color: #00af00; text-decoration-color: #00af00\">24,832</span> │\n",
       "├─────────────────────────────────┼────────────────────────┼───────────────┤\n",
       "│ dropout_1 (<span style=\"color: #0087ff; text-decoration-color: #0087ff\">Dropout</span>)             │ (<span style=\"color: #00d7ff; text-decoration-color: #00d7ff\">None</span>, <span style=\"color: #00af00; text-decoration-color: #00af00\">30</span>, <span style=\"color: #00af00; text-decoration-color: #00af00\">64</span>)         │             <span style=\"color: #00af00; text-decoration-color: #00af00\">0</span> │\n",
       "├─────────────────────────────────┼────────────────────────┼───────────────┤\n",
       "│ lstm_2 (<span style=\"color: #0087ff; text-decoration-color: #0087ff\">LSTM</span>)                   │ (<span style=\"color: #00d7ff; text-decoration-color: #00d7ff\">None</span>, <span style=\"color: #00af00; text-decoration-color: #00af00\">30</span>, <span style=\"color: #00af00; text-decoration-color: #00af00\">32</span>)         │        <span style=\"color: #00af00; text-decoration-color: #00af00\">12,416</span> │\n",
       "├─────────────────────────────────┼────────────────────────┼───────────────┤\n",
       "│ dropout_2 (<span style=\"color: #0087ff; text-decoration-color: #0087ff\">Dropout</span>)             │ (<span style=\"color: #00d7ff; text-decoration-color: #00d7ff\">None</span>, <span style=\"color: #00af00; text-decoration-color: #00af00\">30</span>, <span style=\"color: #00af00; text-decoration-color: #00af00\">32</span>)         │             <span style=\"color: #00af00; text-decoration-color: #00af00\">0</span> │\n",
       "├─────────────────────────────────┼────────────────────────┼───────────────┤\n",
       "│ bidirectional_1 (<span style=\"color: #0087ff; text-decoration-color: #0087ff\">Bidirectional</span>) │ (<span style=\"color: #00d7ff; text-decoration-color: #00d7ff\">None</span>, <span style=\"color: #00af00; text-decoration-color: #00af00\">64</span>)             │        <span style=\"color: #00af00; text-decoration-color: #00af00\">16,640</span> │\n",
       "├─────────────────────────────────┼────────────────────────┼───────────────┤\n",
       "│ dropout_3 (<span style=\"color: #0087ff; text-decoration-color: #0087ff\">Dropout</span>)             │ (<span style=\"color: #00d7ff; text-decoration-color: #00d7ff\">None</span>, <span style=\"color: #00af00; text-decoration-color: #00af00\">64</span>)             │             <span style=\"color: #00af00; text-decoration-color: #00af00\">0</span> │\n",
       "├─────────────────────────────────┼────────────────────────┼───────────────┤\n",
       "│ dense (<span style=\"color: #0087ff; text-decoration-color: #0087ff\">Dense</span>)                   │ (<span style=\"color: #00d7ff; text-decoration-color: #00d7ff\">None</span>, <span style=\"color: #00af00; text-decoration-color: #00af00\">32</span>)             │         <span style=\"color: #00af00; text-decoration-color: #00af00\">2,080</span> │\n",
       "├─────────────────────────────────┼────────────────────────┼───────────────┤\n",
       "│ dropout_4 (<span style=\"color: #0087ff; text-decoration-color: #0087ff\">Dropout</span>)             │ (<span style=\"color: #00d7ff; text-decoration-color: #00d7ff\">None</span>, <span style=\"color: #00af00; text-decoration-color: #00af00\">32</span>)             │             <span style=\"color: #00af00; text-decoration-color: #00af00\">0</span> │\n",
       "├─────────────────────────────────┼────────────────────────┼───────────────┤\n",
       "│ dense_1 (<span style=\"color: #0087ff; text-decoration-color: #0087ff\">Dense</span>)                 │ (<span style=\"color: #00d7ff; text-decoration-color: #00d7ff\">None</span>, <span style=\"color: #00af00; text-decoration-color: #00af00\">16</span>)             │           <span style=\"color: #00af00; text-decoration-color: #00af00\">528</span> │\n",
       "├─────────────────────────────────┼────────────────────────┼───────────────┤\n",
       "│ dropout_5 (<span style=\"color: #0087ff; text-decoration-color: #0087ff\">Dropout</span>)             │ (<span style=\"color: #00d7ff; text-decoration-color: #00d7ff\">None</span>, <span style=\"color: #00af00; text-decoration-color: #00af00\">16</span>)             │             <span style=\"color: #00af00; text-decoration-color: #00af00\">0</span> │\n",
       "├─────────────────────────────────┼────────────────────────┼───────────────┤\n",
       "│ dense_2 (<span style=\"color: #0087ff; text-decoration-color: #0087ff\">Dense</span>)                 │ (<span style=\"color: #00d7ff; text-decoration-color: #00d7ff\">None</span>, <span style=\"color: #00af00; text-decoration-color: #00af00\">1</span>)              │            <span style=\"color: #00af00; text-decoration-color: #00af00\">17</span> │\n",
       "└─────────────────────────────────┴────────────────────────┴───────────────┘\n",
       "</pre>\n"
      ],
      "text/plain": [
       "┏━━━━━━━━━━━━━━━━━━━━━━━━━━━━━━━━━┳━━━━━━━━━━━━━━━━━━━━━━━━┳━━━━━━━━━━━━━━━┓\n",
       "┃\u001b[1m \u001b[0m\u001b[1mLayer (type)                   \u001b[0m\u001b[1m \u001b[0m┃\u001b[1m \u001b[0m\u001b[1mOutput Shape          \u001b[0m\u001b[1m \u001b[0m┃\u001b[1m \u001b[0m\u001b[1m      Param #\u001b[0m\u001b[1m \u001b[0m┃\n",
       "┡━━━━━━━━━━━━━━━━━━━━━━━━━━━━━━━━━╇━━━━━━━━━━━━━━━━━━━━━━━━╇━━━━━━━━━━━━━━━┩\n",
       "│ lstm (\u001b[38;5;33mLSTM\u001b[0m)                     │ (\u001b[38;5;45mNone\u001b[0m, \u001b[38;5;34m30\u001b[0m, \u001b[38;5;34m64\u001b[0m)         │        \u001b[38;5;34m18,432\u001b[0m │\n",
       "├─────────────────────────────────┼────────────────────────┼───────────────┤\n",
       "│ dropout (\u001b[38;5;33mDropout\u001b[0m)               │ (\u001b[38;5;45mNone\u001b[0m, \u001b[38;5;34m30\u001b[0m, \u001b[38;5;34m64\u001b[0m)         │             \u001b[38;5;34m0\u001b[0m │\n",
       "├─────────────────────────────────┼────────────────────────┼───────────────┤\n",
       "│ bidirectional (\u001b[38;5;33mBidirectional\u001b[0m)   │ (\u001b[38;5;45mNone\u001b[0m, \u001b[38;5;34m30\u001b[0m, \u001b[38;5;34m64\u001b[0m)         │        \u001b[38;5;34m24,832\u001b[0m │\n",
       "├─────────────────────────────────┼────────────────────────┼───────────────┤\n",
       "│ dropout_1 (\u001b[38;5;33mDropout\u001b[0m)             │ (\u001b[38;5;45mNone\u001b[0m, \u001b[38;5;34m30\u001b[0m, \u001b[38;5;34m64\u001b[0m)         │             \u001b[38;5;34m0\u001b[0m │\n",
       "├─────────────────────────────────┼────────────────────────┼───────────────┤\n",
       "│ lstm_2 (\u001b[38;5;33mLSTM\u001b[0m)                   │ (\u001b[38;5;45mNone\u001b[0m, \u001b[38;5;34m30\u001b[0m, \u001b[38;5;34m32\u001b[0m)         │        \u001b[38;5;34m12,416\u001b[0m │\n",
       "├─────────────────────────────────┼────────────────────────┼───────────────┤\n",
       "│ dropout_2 (\u001b[38;5;33mDropout\u001b[0m)             │ (\u001b[38;5;45mNone\u001b[0m, \u001b[38;5;34m30\u001b[0m, \u001b[38;5;34m32\u001b[0m)         │             \u001b[38;5;34m0\u001b[0m │\n",
       "├─────────────────────────────────┼────────────────────────┼───────────────┤\n",
       "│ bidirectional_1 (\u001b[38;5;33mBidirectional\u001b[0m) │ (\u001b[38;5;45mNone\u001b[0m, \u001b[38;5;34m64\u001b[0m)             │        \u001b[38;5;34m16,640\u001b[0m │\n",
       "├─────────────────────────────────┼────────────────────────┼───────────────┤\n",
       "│ dropout_3 (\u001b[38;5;33mDropout\u001b[0m)             │ (\u001b[38;5;45mNone\u001b[0m, \u001b[38;5;34m64\u001b[0m)             │             \u001b[38;5;34m0\u001b[0m │\n",
       "├─────────────────────────────────┼────────────────────────┼───────────────┤\n",
       "│ dense (\u001b[38;5;33mDense\u001b[0m)                   │ (\u001b[38;5;45mNone\u001b[0m, \u001b[38;5;34m32\u001b[0m)             │         \u001b[38;5;34m2,080\u001b[0m │\n",
       "├─────────────────────────────────┼────────────────────────┼───────────────┤\n",
       "│ dropout_4 (\u001b[38;5;33mDropout\u001b[0m)             │ (\u001b[38;5;45mNone\u001b[0m, \u001b[38;5;34m32\u001b[0m)             │             \u001b[38;5;34m0\u001b[0m │\n",
       "├─────────────────────────────────┼────────────────────────┼───────────────┤\n",
       "│ dense_1 (\u001b[38;5;33mDense\u001b[0m)                 │ (\u001b[38;5;45mNone\u001b[0m, \u001b[38;5;34m16\u001b[0m)             │           \u001b[38;5;34m528\u001b[0m │\n",
       "├─────────────────────────────────┼────────────────────────┼───────────────┤\n",
       "│ dropout_5 (\u001b[38;5;33mDropout\u001b[0m)             │ (\u001b[38;5;45mNone\u001b[0m, \u001b[38;5;34m16\u001b[0m)             │             \u001b[38;5;34m0\u001b[0m │\n",
       "├─────────────────────────────────┼────────────────────────┼───────────────┤\n",
       "│ dense_2 (\u001b[38;5;33mDense\u001b[0m)                 │ (\u001b[38;5;45mNone\u001b[0m, \u001b[38;5;34m1\u001b[0m)              │            \u001b[38;5;34m17\u001b[0m │\n",
       "└─────────────────────────────────┴────────────────────────┴───────────────┘\n"
      ]
     },
     "metadata": {},
     "output_type": "display_data"
    },
    {
     "data": {
      "text/html": [
       "<pre style=\"white-space:pre;overflow-x:auto;line-height:normal;font-family:Menlo,'DejaVu Sans Mono',consolas,'Courier New',monospace\"><span style=\"font-weight: bold\"> Total params: </span><span style=\"color: #00af00; text-decoration-color: #00af00\">74,945</span> (292.75 KB)\n",
       "</pre>\n"
      ],
      "text/plain": [
       "\u001b[1m Total params: \u001b[0m\u001b[38;5;34m74,945\u001b[0m (292.75 KB)\n"
      ]
     },
     "metadata": {},
     "output_type": "display_data"
    },
    {
     "data": {
      "text/html": [
       "<pre style=\"white-space:pre;overflow-x:auto;line-height:normal;font-family:Menlo,'DejaVu Sans Mono',consolas,'Courier New',monospace\"><span style=\"font-weight: bold\"> Trainable params: </span><span style=\"color: #00af00; text-decoration-color: #00af00\">74,945</span> (292.75 KB)\n",
       "</pre>\n"
      ],
      "text/plain": [
       "\u001b[1m Trainable params: \u001b[0m\u001b[38;5;34m74,945\u001b[0m (292.75 KB)\n"
      ]
     },
     "metadata": {},
     "output_type": "display_data"
    },
    {
     "data": {
      "text/html": [
       "<pre style=\"white-space:pre;overflow-x:auto;line-height:normal;font-family:Menlo,'DejaVu Sans Mono',consolas,'Courier New',monospace\"><span style=\"font-weight: bold\"> Non-trainable params: </span><span style=\"color: #00af00; text-decoration-color: #00af00\">0</span> (0.00 B)\n",
       "</pre>\n"
      ],
      "text/plain": [
       "\u001b[1m Non-trainable params: \u001b[0m\u001b[38;5;34m0\u001b[0m (0.00 B)\n"
      ]
     },
     "metadata": {},
     "output_type": "display_data"
    }
   ],
   "source": [
    "model = Sequential()\n",
    "model.add(LSTM(64, activation='relu', input_shape=(trainX.shape[1], trainX.shape[2]), return_sequences=True))\n",
    "model.add(Dropout(0.4))\n",
    "model.add(Bidirectional(LSTM(32, activation='relu', return_sequences=True)))\n",
    "model.add(Dropout(0.4))\n",
    "model.add((LSTM(32, activation='relu', return_sequences=True)))\n",
    "model.add(Dropout(0.4))\n",
    "model.add(Bidirectional(LSTM(32, activation='relu', return_sequences=False)))\n",
    "model.add(Dropout(0.4))\n",
    "model.add(Dense(32, activation='relu'))\n",
    "model.add(Dropout(0.4))\n",
    "model.add(Dense(16, activation='relu'))\n",
    "model.add(Dropout(0.4))\n",
    "model.add(Dense(trainY.shape[1]))\n",
    "\n",
    "model.compile(optimizer='adam', loss='mse')\n",
    "model.summary()"
   ]
  },
  {
   "cell_type": "code",
   "execution_count": 19,
   "metadata": {},
   "outputs": [
    {
     "name": "stdout",
     "output_type": "stream",
     "text": [
      "Epoch 1/50\n",
      "\u001b[1m463/463\u001b[0m \u001b[32m━━━━━━━━━━━━━━━━━━━━\u001b[0m\u001b[37m\u001b[0m \u001b[1m12s\u001b[0m 27ms/step - loss: 5.7198e-04 - val_loss: 1.5713e-04\n",
      "Epoch 2/50\n",
      "\u001b[1m463/463\u001b[0m \u001b[32m━━━━━━━━━━━━━━━━━━━━\u001b[0m\u001b[37m\u001b[0m \u001b[1m12s\u001b[0m 27ms/step - loss: 6.6218e-04 - val_loss: 1.5155e-04\n",
      "Epoch 3/50\n",
      "\u001b[1m463/463\u001b[0m \u001b[32m━━━━━━━━━━━━━━━━━━━━\u001b[0m\u001b[37m\u001b[0m \u001b[1m13s\u001b[0m 27ms/step - loss: 4.3452e-04 - val_loss: 1.6468e-04\n",
      "Epoch 4/50\n",
      "\u001b[1m463/463\u001b[0m \u001b[32m━━━━━━━━━━━━━━━━━━━━\u001b[0m\u001b[37m\u001b[0m \u001b[1m12s\u001b[0m 27ms/step - loss: 4.9657e-04 - val_loss: 1.6071e-04\n",
      "Epoch 5/50\n",
      "\u001b[1m463/463\u001b[0m \u001b[32m━━━━━━━━━━━━━━━━━━━━\u001b[0m\u001b[37m\u001b[0m \u001b[1m12s\u001b[0m 27ms/step - loss: 4.9240e-04 - val_loss: 1.4974e-04\n",
      "Epoch 6/50\n",
      "\u001b[1m463/463\u001b[0m \u001b[32m━━━━━━━━━━━━━━━━━━━━\u001b[0m\u001b[37m\u001b[0m \u001b[1m13s\u001b[0m 27ms/step - loss: 3.8261e-04 - val_loss: 1.3211e-04\n",
      "Epoch 7/50\n",
      "\u001b[1m463/463\u001b[0m \u001b[32m━━━━━━━━━━━━━━━━━━━━\u001b[0m\u001b[37m\u001b[0m \u001b[1m13s\u001b[0m 28ms/step - loss: 6.9302e-04 - val_loss: 1.4339e-04\n",
      "Epoch 8/50\n",
      "\u001b[1m463/463\u001b[0m \u001b[32m━━━━━━━━━━━━━━━━━━━━\u001b[0m\u001b[37m\u001b[0m \u001b[1m18s\u001b[0m 38ms/step - loss: 5.9693e-04 - val_loss: 1.4283e-04\n",
      "Epoch 9/50\n",
      "\u001b[1m463/463\u001b[0m \u001b[32m━━━━━━━━━━━━━━━━━━━━\u001b[0m\u001b[37m\u001b[0m \u001b[1m12s\u001b[0m 27ms/step - loss: 4.5327e-04 - val_loss: 1.4068e-04\n",
      "Epoch 10/50\n",
      "\u001b[1m463/463\u001b[0m \u001b[32m━━━━━━━━━━━━━━━━━━━━\u001b[0m\u001b[37m\u001b[0m \u001b[1m12s\u001b[0m 27ms/step - loss: 4.6110e-04 - val_loss: 1.6497e-04\n",
      "Epoch 11/50\n",
      "\u001b[1m463/463\u001b[0m \u001b[32m━━━━━━━━━━━━━━━━━━━━\u001b[0m\u001b[37m\u001b[0m \u001b[1m12s\u001b[0m 27ms/step - loss: 4.1142e-04 - val_loss: 1.5369e-04\n",
      "Epoch 12/50\n",
      "\u001b[1m463/463\u001b[0m \u001b[32m━━━━━━━━━━━━━━━━━━━━\u001b[0m\u001b[37m\u001b[0m \u001b[1m12s\u001b[0m 26ms/step - loss: 4.8397e-04 - val_loss: 1.6511e-04\n",
      "Epoch 13/50\n",
      "\u001b[1m463/463\u001b[0m \u001b[32m━━━━━━━━━━━━━━━━━━━━\u001b[0m\u001b[37m\u001b[0m \u001b[1m12s\u001b[0m 26ms/step - loss: 5.6412e-04 - val_loss: 1.8002e-04\n",
      "Epoch 14/50\n",
      "\u001b[1m463/463\u001b[0m \u001b[32m━━━━━━━━━━━━━━━━━━━━\u001b[0m\u001b[37m\u001b[0m \u001b[1m23s\u001b[0m 50ms/step - loss: 8.6948e-04 - val_loss: 1.8309e-04\n",
      "Epoch 15/50\n",
      "\u001b[1m463/463\u001b[0m \u001b[32m━━━━━━━━━━━━━━━━━━━━\u001b[0m\u001b[37m\u001b[0m \u001b[1m33s\u001b[0m 70ms/step - loss: 4.3154e-04 - val_loss: 1.4301e-04\n",
      "Epoch 16/50\n",
      "\u001b[1m463/463\u001b[0m \u001b[32m━━━━━━━━━━━━━━━━━━━━\u001b[0m\u001b[37m\u001b[0m \u001b[1m13s\u001b[0m 27ms/step - loss: 6.8128e-04 - val_loss: 1.6001e-04\n",
      "Epoch 17/50\n",
      "\u001b[1m463/463\u001b[0m \u001b[32m━━━━━━━━━━━━━━━━━━━━\u001b[0m\u001b[37m\u001b[0m \u001b[1m13s\u001b[0m 27ms/step - loss: 3.9396e-04 - val_loss: 1.4122e-04\n",
      "Epoch 18/50\n",
      "\u001b[1m463/463\u001b[0m \u001b[32m━━━━━━━━━━━━━━━━━━━━\u001b[0m\u001b[37m\u001b[0m \u001b[1m13s\u001b[0m 28ms/step - loss: 7.3339e-04 - val_loss: 1.7419e-04\n",
      "Epoch 19/50\n",
      "\u001b[1m463/463\u001b[0m \u001b[32m━━━━━━━━━━━━━━━━━━━━\u001b[0m\u001b[37m\u001b[0m \u001b[1m13s\u001b[0m 27ms/step - loss: 4.9840e-04 - val_loss: 1.6159e-04\n",
      "Epoch 20/50\n",
      "\u001b[1m463/463\u001b[0m \u001b[32m━━━━━━━━━━━━━━━━━━━━\u001b[0m\u001b[37m\u001b[0m \u001b[1m13s\u001b[0m 28ms/step - loss: 5.0577e-04 - val_loss: 1.4857e-04\n",
      "Epoch 21/50\n",
      "\u001b[1m463/463\u001b[0m \u001b[32m━━━━━━━━━━━━━━━━━━━━\u001b[0m\u001b[37m\u001b[0m \u001b[1m12s\u001b[0m 27ms/step - loss: 4.9681e-04 - val_loss: 1.5926e-04\n",
      "Epoch 22/50\n",
      "\u001b[1m463/463\u001b[0m \u001b[32m━━━━━━━━━━━━━━━━━━━━\u001b[0m\u001b[37m\u001b[0m \u001b[1m12s\u001b[0m 27ms/step - loss: 5.2885e-04 - val_loss: 1.6366e-04\n",
      "Epoch 23/50\n",
      "\u001b[1m463/463\u001b[0m \u001b[32m━━━━━━━━━━━━━━━━━━━━\u001b[0m\u001b[37m\u001b[0m \u001b[1m12s\u001b[0m 26ms/step - loss: 5.3945e-04 - val_loss: 1.5275e-04\n",
      "Epoch 24/50\n",
      "\u001b[1m463/463\u001b[0m \u001b[32m━━━━━━━━━━━━━━━━━━━━\u001b[0m\u001b[37m\u001b[0m \u001b[1m14s\u001b[0m 31ms/step - loss: 3.7500e-04 - val_loss: 1.2929e-04\n",
      "Epoch 25/50\n",
      "\u001b[1m463/463\u001b[0m \u001b[32m━━━━━━━━━━━━━━━━━━━━\u001b[0m\u001b[37m\u001b[0m \u001b[1m16s\u001b[0m 34ms/step - loss: 6.2045e-04 - val_loss: 1.4029e-04\n",
      "Epoch 26/50\n",
      "\u001b[1m463/463\u001b[0m \u001b[32m━━━━━━━━━━━━━━━━━━━━\u001b[0m\u001b[37m\u001b[0m \u001b[1m12s\u001b[0m 26ms/step - loss: 4.9988e-04 - val_loss: 1.4368e-04\n",
      "Epoch 27/50\n",
      "\u001b[1m463/463\u001b[0m \u001b[32m━━━━━━━━━━━━━━━━━━━━\u001b[0m\u001b[37m\u001b[0m \u001b[1m12s\u001b[0m 26ms/step - loss: 4.4695e-04 - val_loss: 1.3832e-04\n",
      "Epoch 28/50\n",
      "\u001b[1m463/463\u001b[0m \u001b[32m━━━━━━━━━━━━━━━━━━━━\u001b[0m\u001b[37m\u001b[0m \u001b[1m12s\u001b[0m 27ms/step - loss: 5.9489e-04 - val_loss: 1.4911e-04\n",
      "Epoch 29/50\n",
      "\u001b[1m463/463\u001b[0m \u001b[32m━━━━━━━━━━━━━━━━━━━━\u001b[0m\u001b[37m\u001b[0m \u001b[1m12s\u001b[0m 26ms/step - loss: 4.5924e-04 - val_loss: 1.7139e-04\n",
      "Epoch 30/50\n",
      "\u001b[1m463/463\u001b[0m \u001b[32m━━━━━━━━━━━━━━━━━━━━\u001b[0m\u001b[37m\u001b[0m \u001b[1m12s\u001b[0m 26ms/step - loss: 3.8849e-04 - val_loss: 1.3313e-04\n",
      "Epoch 31/50\n",
      "\u001b[1m463/463\u001b[0m \u001b[32m━━━━━━━━━━━━━━━━━━━━\u001b[0m\u001b[37m\u001b[0m \u001b[1m12s\u001b[0m 27ms/step - loss: 4.1682e-04 - val_loss: 1.8114e-04\n",
      "Epoch 32/50\n",
      "\u001b[1m463/463\u001b[0m \u001b[32m━━━━━━━━━━━━━━━━━━━━\u001b[0m\u001b[37m\u001b[0m \u001b[1m12s\u001b[0m 27ms/step - loss: 6.1074e-04 - val_loss: 1.5706e-04\n",
      "Epoch 33/50\n",
      "\u001b[1m463/463\u001b[0m \u001b[32m━━━━━━━━━━━━━━━━━━━━\u001b[0m\u001b[37m\u001b[0m \u001b[1m12s\u001b[0m 27ms/step - loss: 7.0334e-04 - val_loss: 1.5804e-04\n",
      "Epoch 34/50\n",
      "\u001b[1m463/463\u001b[0m \u001b[32m━━━━━━━━━━━━━━━━━━━━\u001b[0m\u001b[37m\u001b[0m \u001b[1m12s\u001b[0m 26ms/step - loss: 5.8096e-04 - val_loss: 1.9376e-04\n",
      "Epoch 35/50\n",
      "\u001b[1m463/463\u001b[0m \u001b[32m━━━━━━━━━━━━━━━━━━━━\u001b[0m\u001b[37m\u001b[0m \u001b[1m12s\u001b[0m 26ms/step - loss: 3.6993e-04 - val_loss: 1.4285e-04\n",
      "Epoch 36/50\n",
      "\u001b[1m463/463\u001b[0m \u001b[32m━━━━━━━━━━━━━━━━━━━━\u001b[0m\u001b[37m\u001b[0m \u001b[1m12s\u001b[0m 26ms/step - loss: 4.0946e-04 - val_loss: 1.4535e-04\n",
      "Epoch 37/50\n",
      "\u001b[1m463/463\u001b[0m \u001b[32m━━━━━━━━━━━━━━━━━━━━\u001b[0m\u001b[37m\u001b[0m \u001b[1m12s\u001b[0m 26ms/step - loss: 5.4191e-04 - val_loss: 1.6597e-04\n",
      "Epoch 38/50\n",
      "\u001b[1m463/463\u001b[0m \u001b[32m━━━━━━━━━━━━━━━━━━━━\u001b[0m\u001b[37m\u001b[0m \u001b[1m12s\u001b[0m 26ms/step - loss: 8.2312e-04 - val_loss: 1.5684e-04\n",
      "Epoch 39/50\n",
      "\u001b[1m463/463\u001b[0m \u001b[32m━━━━━━━━━━━━━━━━━━━━\u001b[0m\u001b[37m\u001b[0m \u001b[1m12s\u001b[0m 26ms/step - loss: 4.2988e-04 - val_loss: 1.6195e-04\n",
      "Epoch 40/50\n",
      "\u001b[1m463/463\u001b[0m \u001b[32m━━━━━━━━━━━━━━━━━━━━\u001b[0m\u001b[37m\u001b[0m \u001b[1m12s\u001b[0m 26ms/step - loss: 6.6011e-04 - val_loss: 1.5837e-04\n",
      "Epoch 41/50\n",
      "\u001b[1m463/463\u001b[0m \u001b[32m━━━━━━━━━━━━━━━━━━━━\u001b[0m\u001b[37m\u001b[0m \u001b[1m12s\u001b[0m 27ms/step - loss: 4.8003e-04 - val_loss: 1.5063e-04\n",
      "Epoch 42/50\n",
      "\u001b[1m463/463\u001b[0m \u001b[32m━━━━━━━━━━━━━━━━━━━━\u001b[0m\u001b[37m\u001b[0m \u001b[1m12s\u001b[0m 26ms/step - loss: 5.2980e-04 - val_loss: 1.5706e-04\n",
      "Epoch 43/50\n",
      "\u001b[1m463/463\u001b[0m \u001b[32m━━━━━━━━━━━━━━━━━━━━\u001b[0m\u001b[37m\u001b[0m \u001b[1m12s\u001b[0m 26ms/step - loss: 6.4686e-04 - val_loss: 1.4677e-04\n",
      "Epoch 44/50\n",
      "\u001b[1m463/463\u001b[0m \u001b[32m━━━━━━━━━━━━━━━━━━━━\u001b[0m\u001b[37m\u001b[0m \u001b[1m13s\u001b[0m 28ms/step - loss: 4.7422e-04 - val_loss: 1.4222e-04\n",
      "Epoch 45/50\n",
      "\u001b[1m463/463\u001b[0m \u001b[32m━━━━━━━━━━━━━━━━━━━━\u001b[0m\u001b[37m\u001b[0m \u001b[1m12s\u001b[0m 26ms/step - loss: 5.7156e-04 - val_loss: 1.6068e-04\n",
      "Epoch 46/50\n",
      "\u001b[1m463/463\u001b[0m \u001b[32m━━━━━━━━━━━━━━━━━━━━\u001b[0m\u001b[37m\u001b[0m \u001b[1m12s\u001b[0m 26ms/step - loss: 6.7802e-04 - val_loss: 1.7247e-04\n",
      "Epoch 47/50\n",
      "\u001b[1m463/463\u001b[0m \u001b[32m━━━━━━━━━━━━━━━━━━━━\u001b[0m\u001b[37m\u001b[0m \u001b[1m12s\u001b[0m 27ms/step - loss: 4.2904e-04 - val_loss: 1.3863e-04\n",
      "Epoch 48/50\n",
      "\u001b[1m463/463\u001b[0m \u001b[32m━━━━━━━━━━━━━━━━━━━━\u001b[0m\u001b[37m\u001b[0m \u001b[1m12s\u001b[0m 26ms/step - loss: 4.5290e-04 - val_loss: 1.5098e-04\n",
      "Epoch 49/50\n",
      "\u001b[1m463/463\u001b[0m \u001b[32m━━━━━━━━━━━━━━━━━━━━\u001b[0m\u001b[37m\u001b[0m \u001b[1m21s\u001b[0m 26ms/step - loss: 5.2183e-04 - val_loss: 1.3340e-04\n",
      "Epoch 50/50\n",
      "\u001b[1m463/463\u001b[0m \u001b[32m━━━━━━━━━━━━━━━━━━━━\u001b[0m\u001b[37m\u001b[0m \u001b[1m12s\u001b[0m 26ms/step - loss: 6.3590e-04 - val_loss: 1.4237e-04\n"
     ]
    },
    {
     "data": {
      "text/plain": [
       "<matplotlib.legend.Legend at 0x23efb2173d0>"
      ]
     },
     "execution_count": 19,
     "metadata": {},
     "output_type": "execute_result"
    },
    {
     "data": {
      "image/png": "[encoded data removed]",
      "text/plain": [
       "<Figure size 640x480 with 1 Axes>"
      ]
     },
     "metadata": {},
     "output_type": "display_data"
    }
   ],
   "source": [
    "history = model.fit(trainX, trainY, epochs=50, batch_size=16, validation_split=0.1, verbose=1)\n",
    "\n",
    "plt.plot(history.history['loss'], label='Training loss')\n",
    "plt.plot(history.history['val_loss'], label='Validation loss')\n",
    "plt.legend()"
   ]
  },
  {
   "cell_type": "code",
   "execution_count": 2,
   "metadata": {},
   "outputs": [],
   "source": [
    "# Vorhersage = 'Bodentemperatur'\n",
    "# # Modell speichern\n",
    "# model.save('Modelle&Scaler/' + Vorhersage+ '_model.h5')\n",
    "\n",
    "# # Scaler speichern\n",
    "# joblib.dump(scaler, 'Modelle&Scaler/'+ Vorhersage +'_scaler.save')"
   ]
  },
  {
   "cell_type": "code",
   "execution_count": 3,
   "metadata": {},
   "outputs": [
    {
     "ename": "NameError",
     "evalue": "name 'pickle' is not defined",
     "output_type": "error",
     "traceback": [
      "\u001b[1;31m---------------------------------------------------------------------------\u001b[0m",
      "\u001b[1;31mNameError\u001b[0m                                 Traceback (most recent call last)",
      "Cell \u001b[1;32mIn[3], line 3\u001b[0m\n\u001b[0;32m      1\u001b[0m Vorhersage \u001b[38;5;241m=\u001b[39m \u001b[38;5;124m'\u001b[39m\u001b[38;5;124mTemperatur\u001b[39m\u001b[38;5;124m'\u001b[39m\n\u001b[0;32m      2\u001b[0m \u001b[38;5;28;01mwith\u001b[39;00m \u001b[38;5;28mopen\u001b[39m(\u001b[38;5;124m'\u001b[39m\u001b[38;5;124mModelle&Scaler/\u001b[39m\u001b[38;5;124m'\u001b[39m \u001b[38;5;241m+\u001b[39m Vorhersage \u001b[38;5;241m+\u001b[39m \u001b[38;5;124m'\u001b[39m\u001b[38;5;124mscaler.pkl\u001b[39m\u001b[38;5;124m'\u001b[39m,\u001b[38;5;124m'\u001b[39m\u001b[38;5;124mwb\u001b[39m\u001b[38;5;124m'\u001b[39m) \u001b[38;5;28;01mas\u001b[39;00m f:\n\u001b[1;32m----> 3\u001b[0m     \u001b[43mpickle\u001b[49m\u001b[38;5;241m.\u001b[39mdump(scaler, f)\n\u001b[0;32m      4\u001b[0m \u001b[38;5;28;01mwith\u001b[39;00m \u001b[38;5;28mopen\u001b[39m(\u001b[38;5;124m'\u001b[39m\u001b[38;5;124mModelle&Scaler/\u001b[39m\u001b[38;5;124m'\u001b[39m \u001b[38;5;241m+\u001b[39m Vorhersage \u001b[38;5;241m+\u001b[39m \u001b[38;5;124m'\u001b[39m\u001b[38;5;124mModel.pkl\u001b[39m\u001b[38;5;124m'\u001b[39m,\u001b[38;5;124m'\u001b[39m\u001b[38;5;124mwb\u001b[39m\u001b[38;5;124m'\u001b[39m) \u001b[38;5;28;01mas\u001b[39;00m f:\n\u001b[0;32m      5\u001b[0m     pickle\u001b[38;5;241m.\u001b[39mdump(model, f)\n",
      "\u001b[1;31mNameError\u001b[0m: name 'pickle' is not defined"
     ]
    }
   ],
   "source": [
    "Vorhersage = 'Temperatur'\n",
    "with open('Modelle&Scaler/' + Vorhersage + 'scaler.pkl','wb') as f:\n",
    "    pickle.dump(scaler, f)\n",
    "with open('Modelle&Scaler/' + Vorhersage + 'Model.pkl','wb') as f:\n",
    "    pickle.dump(model, f)"
   ]
  },
  {
   "cell_type": "code",
   "execution_count": null,
   "metadata": {},
   "outputs": [
    {
     "name": "stdout",
     "output_type": "stream",
     "text": [
      "WARNING:tensorflow:5 out of the last 5 calls to <function TensorFlowTrainer.make_predict_function.<locals>.one_step_on_data_distributed at 0x0000018B09C37740> triggered tf.function retracing. Tracing is expensive and the excessive number of tracings could be due to (1) creating @tf.function repeatedly in a loop, (2) passing tensors with different shapes, (3) passing Python objects instead of tensors. For (1), please define your @tf.function outside of the loop. For (2), @tf.function has reduce_retracing=True option that can avoid unnecessary retracing. For (3), please refer to https://www.tensorflow.org/guide/function#controlling_retracing and https://www.tensorflow.org/api_docs/python/tf/function for  more details.\n"
     ]
    },
    {
     "name": "stderr",
     "output_type": "stream",
     "text": [
      "WARNING:tensorflow:5 out of the last 5 calls to <function TensorFlowTrainer.make_predict_function.<locals>.one_step_on_data_distributed at 0x0000018B09C37740> triggered tf.function retracing. Tracing is expensive and the excessive number of tracings could be due to (1) creating @tf.function repeatedly in a loop, (2) passing tensors with different shapes, (3) passing Python objects instead of tensors. For (1), please define your @tf.function outside of the loop. For (2), @tf.function has reduce_retracing=True option that can avoid unnecessary retracing. For (3), please refer to https://www.tensorflow.org/guide/function#controlling_retracing and https://www.tensorflow.org/api_docs/python/tf/function for  more details.\n"
     ]
    },
    {
     "name": "stdout",
     "output_type": "stream",
     "text": [
      "\u001b[1m1/1\u001b[0m \u001b[32m━━━━━━━━━━━━━━━━━━━━\u001b[0m\u001b[37m\u001b[0m \u001b[1m1s\u001b[0m 824ms/step\n"
     ]
    }
   ],
   "source": [
    "n_future = 24\n",
    "forecast_period_dates = pd.date_range(list(train_dates)[-n_future], periods=n_future, freq='1H').tolist()\n",
    "\n",
    "forecast = model.predict(trainX[-n_future:])"
   ]
  },
  {
   "cell_type": "code",
   "execution_count": 4,
   "metadata": {},
   "outputs": [],
   "source": [
    "# prediction_copies = np.repeat(forecast[1], df_for_training.shape[1], axis=-1)\n",
    "# prediction_copies = pd.DataFrame(prediction_copies)\n",
    "# y_pred_future = ssc.unscale(prediction_copies)\n",
    "# y_pred_future"
   ]
  },
  {
   "cell_type": "code",
   "execution_count": 5,
   "metadata": {},
   "outputs": [
    {
     "ename": "NameError",
     "evalue": "name 'np' is not defined",
     "output_type": "error",
     "traceback": [
      "\u001b[1;31m---------------------------------------------------------------------------\u001b[0m",
      "\u001b[1;31mNameError\u001b[0m                                 Traceback (most recent call last)",
      "Cell \u001b[1;32mIn[5], line 1\u001b[0m\n\u001b[1;32m----> 1\u001b[0m prediction_copies \u001b[38;5;241m=\u001b[39m \u001b[43mnp\u001b[49m\u001b[38;5;241m.\u001b[39mrepeat(forecast, df_for_training\u001b[38;5;241m.\u001b[39mshape[\u001b[38;5;241m1\u001b[39m], axis\u001b[38;5;241m=\u001b[39m\u001b[38;5;241m-\u001b[39m\u001b[38;5;241m1\u001b[39m)\n\u001b[0;32m      2\u001b[0m y_pred_future \u001b[38;5;241m=\u001b[39m scaler\u001b[38;5;241m.\u001b[39minverse_transform(prediction_copies)[:,\u001b[38;5;241m0\u001b[39m]\n",
      "\u001b[1;31mNameError\u001b[0m: name 'np' is not defined"
     ]
    }
   ],
   "source": [
    "prediction_copies = np.repeat(forecast, df_for_training.shape[1], axis=-1)\n",
    "y_pred_future = scaler.inverse_transform(prediction_copies)[:,0]"
   ]
  },
  {
   "cell_type": "code",
   "execution_count": 6,
   "metadata": {},
   "outputs": [
    {
     "ename": "NameError",
     "evalue": "name 'forecast_period_dates' is not defined",
     "output_type": "error",
     "traceback": [
      "\u001b[1;31m---------------------------------------------------------------------------\u001b[0m",
      "\u001b[1;31mNameError\u001b[0m                                 Traceback (most recent call last)",
      "Cell \u001b[1;32mIn[6], line 2\u001b[0m\n\u001b[0;32m      1\u001b[0m forecast_dates \u001b[38;5;241m=\u001b[39m []\n\u001b[1;32m----> 2\u001b[0m \u001b[38;5;28;01mfor\u001b[39;00m time_i \u001b[38;5;129;01min\u001b[39;00m \u001b[43mforecast_period_dates\u001b[49m:\n\u001b[0;32m      3\u001b[0m     forecast_dates\u001b[38;5;241m.\u001b[39mappend(datetime\u001b[38;5;241m.\u001b[39mfromtimestamp(time_i\u001b[38;5;241m.\u001b[39mtimestamp()))\n\u001b[0;32m      5\u001b[0m df_forecast \u001b[38;5;241m=\u001b[39m pd\u001b[38;5;241m.\u001b[39mDataFrame({\u001b[38;5;124m'\u001b[39m\u001b[38;5;124mcreatedAt\u001b[39m\u001b[38;5;124m'\u001b[39m:forecast_dates, Vorhersage:y_pred_future})\n",
      "\u001b[1;31mNameError\u001b[0m: name 'forecast_period_dates' is not defined"
     ]
    }
   ],
   "source": [
    "forecast_dates = []\n",
    "for time_i in forecast_period_dates:\n",
    "    forecast_dates.append(datetime.fromtimestamp(time_i.timestamp()))\n",
    "    \n",
    "df_forecast = pd.DataFrame({'createdAt':forecast_dates, Vorhersage:y_pred_future})\n",
    "df_forecast['createdAt']=pd.to_datetime(df_forecast['createdAt'])\n",
    "df_forecast"
   ]
  },
  {
   "cell_type": "code",
   "execution_count": 7,
   "metadata": {},
   "outputs": [
    {
     "ename": "NameError",
     "evalue": "name 'df_hourly' is not defined",
     "output_type": "error",
     "traceback": [
      "\u001b[1;31m---------------------------------------------------------------------------\u001b[0m",
      "\u001b[1;31mNameError\u001b[0m                                 Traceback (most recent call last)",
      "Cell \u001b[1;32mIn[7], line 1\u001b[0m\n\u001b[1;32m----> 1\u001b[0m original \u001b[38;5;241m=\u001b[39m \u001b[43mdf_hourly\u001b[49m[[\u001b[38;5;124m'\u001b[39m\u001b[38;5;124mcreatedAt\u001b[39m\u001b[38;5;124m'\u001b[39m, Vorhersage]]\n\u001b[0;32m      2\u001b[0m original_compare \u001b[38;5;241m=\u001b[39m pd\u001b[38;5;241m.\u001b[39mmerge(original, df_forecast,on\u001b[38;5;241m=\u001b[39m\u001b[38;5;124m'\u001b[39m\u001b[38;5;124mcreatedAt\u001b[39m\u001b[38;5;124m'\u001b[39m, how\u001b[38;5;241m=\u001b[39m\u001b[38;5;124m'\u001b[39m\u001b[38;5;124minner\u001b[39m\u001b[38;5;124m'\u001b[39m, suffixes\u001b[38;5;241m=\u001b[39m(\u001b[38;5;124m'\u001b[39m\u001b[38;5;124m'\u001b[39m,\u001b[38;5;124m'\u001b[39m\u001b[38;5;124mPred\u001b[39m\u001b[38;5;124m'\u001b[39m))\n\u001b[0;32m      3\u001b[0m original_compare\n",
      "\u001b[1;31mNameError\u001b[0m: name 'df_hourly' is not defined"
     ]
    }
   ],
   "source": [
    "original = df_hourly[['createdAt', Vorhersage]]\n",
    "original_compare = pd.merge(original, df_forecast,on='createdAt', how='inner', suffixes=('','Pred'))\n",
    "original_compare"
   ]
  },
  {
   "cell_type": "code",
   "execution_count": 8,
   "metadata": {},
   "outputs": [
    {
     "ename": "NameError",
     "evalue": "name 'sns' is not defined",
     "output_type": "error",
     "traceback": [
      "\u001b[1;31m---------------------------------------------------------------------------\u001b[0m",
      "\u001b[1;31mNameError\u001b[0m                                 Traceback (most recent call last)",
      "Cell \u001b[1;32mIn[8], line 1\u001b[0m\n\u001b[1;32m----> 1\u001b[0m \u001b[43msns\u001b[49m\u001b[38;5;241m.\u001b[39mlineplot(data\u001b[38;5;241m=\u001b[39moriginal_compare, x\u001b[38;5;241m=\u001b[39m\u001b[38;5;124m'\u001b[39m\u001b[38;5;124mcreatedAt\u001b[39m\u001b[38;5;124m'\u001b[39m, y\u001b[38;5;241m=\u001b[39mVorhersage, label\u001b[38;5;241m=\u001b[39m\u001b[38;5;124m'\u001b[39m\u001b[38;5;124mRichitg\u001b[39m\u001b[38;5;124m'\u001b[39m)\n\u001b[0;32m      2\u001b[0m sns\u001b[38;5;241m.\u001b[39mlineplot(data\u001b[38;5;241m=\u001b[39moriginal_compare, x\u001b[38;5;241m=\u001b[39m\u001b[38;5;124m'\u001b[39m\u001b[38;5;124mcreatedAt\u001b[39m\u001b[38;5;124m'\u001b[39m, y\u001b[38;5;241m=\u001b[39mVorhersage\u001b[38;5;241m+\u001b[39m\u001b[38;5;124m'\u001b[39m\u001b[38;5;124mPred\u001b[39m\u001b[38;5;124m'\u001b[39m, label\u001b[38;5;241m=\u001b[39m\u001b[38;5;124m'\u001b[39m\u001b[38;5;124mVorhersage\u001b[39m\u001b[38;5;124m'\u001b[39m)\n",
      "\u001b[1;31mNameError\u001b[0m: name 'sns' is not defined"
     ]
    }
   ],
   "source": [
    "sns.lineplot(data=original_compare, x='createdAt', y=Vorhersage, label='Richitg')\n",
    "sns.lineplot(data=original_compare, x='createdAt', y=Vorhersage+'Pred', label='Vorhersage')"
   ]
  },
  {
   "cell_type": "code",
   "execution_count": null,
   "metadata": {},
   "outputs": [
    {
     "data": {
      "image/png": "[encoded data removed]",
      "text/plain": [
       "<Figure size 640x480 with 1 Axes>"
      ]
     },
     "metadata": {},
     "output_type": "display_data"
    }
   ],
   "source": [
    "df_original = df_hourly[['createdAt', Vorhersage]].tail(50)\n",
    "df_prediction = df_forecast\n",
    "df_original_cut = df_original[df_original['createdAt'] < df_prediction['createdAt'].min()]\n",
    "\n",
    "# Combine the dataframes\n",
    "df_combined = pd.concat([df_original_cut, df_prediction], ignore_index=True)\n",
    "\n",
    "# Add a column to differentiate between original and predicted values\n",
    "df_combined['Type'] = ['Original'] * len(df_original_cut) + ['Predicted'] * len(df_prediction)\n",
    "\n",
    "# Plotting\n",
    "plt.plot(df_combined['createdAt'], df_combined[Vorhersage], label=Vorhersage)\n",
    "\n",
    "start_prediction = df_prediction['createdAt'].min()\n",
    "end_plot = df_combined['createdAt'].max() + timedelta(days=1)\n",
    "plt.axvspan(start_prediction, end_plot, color='lightgray', alpha=0.5)\n",
    "\n",
    "# Add vertical dashed red line at the start of predictions\n",
    "plt.axvline(start_prediction, color='red', linestyle='--', alpha=0.6)\n",
    "\n",
    "\n",
    "plt.xlim(df_combined['createdAt'].min(), df_combined['createdAt'].max())\n",
    "plt.legend()\n",
    "plt.show()"
   ]
  }
 ],
 "metadata": {
  "kernelspec": {
   "display_name": "Python 3",
   "language": "python",
   "name": "python3"
  },
  "language_info": {
   "codemirror_mode": {
    "name": "ipython",
    "version": 3
   },
   "file_extension": ".py",
   "mimetype": "text/x-python",
   "name": "python",
   "nbconvert_exporter": "python",
   "pygments_lexer": "ipython3",
   "version": "3.11.3"
  }
 },
 "nbformat": 4,
 "nbformat_minor": 2
}
