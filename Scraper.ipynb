{
 "cells": [
  {
   "cell_type": "code",
   "execution_count": 2,
   "id": "34fa0f4d",
   "metadata": {},
   "outputs": [],
   "source": [
    "from datetime import datetime, timedelta\n",
    "from time import sleep\n",
    "import os\n",
    "import re\n",
    "import requests\n",
    "import wget"
   ]
  },
  {
   "cell_type": "code",
   "execution_count": 3,
   "id": "e920bd4a",
   "metadata": {},
   "outputs": [
    {
     "name": "stdout",
     "output_type": "stream",
     "text": [
      "[{'_id': '617ab96c8b4e03001b05b493',\n",
      "  'icon': 'osem-thermometer',\n",
      "  'lastMeasurement': '632fb60751771e001b14ad80',\n",
      "  'sensorType': 'HDC1080',\n",
      "  'title': 'Temperatur',\n",
      "  'unit': '°C'},\n",
      " {'_id': '617ab96c8b4e03001b05b492',\n",
      "  'icon': 'osem-humidity',\n",
      "  'lastMeasurement': '632fb60751771e001b14ad81',\n",
      "  'sensorType': 'HDC1080',\n",
      "  'title': 'rel. Luftfeuchte',\n",
      "  'unit': '%'},\n",
      " {'_id': '617ab96c8b4e03001b05b491',\n",
      "  'icon': 'osem-barometer',\n",
      "  'lastMeasurement': '632fb60751771e001b14ad7f',\n",
      "  'sensorType': 'BMP280',\n",
      "  'title': 'Luftdruck',\n",
      "  'unit': 'hPa (=mBar)'},\n",
      " {'_id': '617ab96c8b4e03001b05b490',\n",
      "  'icon': 'osem-brightness',\n",
      "  'lastMeasurement': '632fb60751771e001b14ad7e',\n",
      "  'sensorType': 'TSL45315',\n",
      "  'title': 'Beleuchtungsstärke',\n",
      "  'unit': 'lx'},\n",
      " {'_id': '617ab96c8b4e03001b05b48f',\n",
      "  'icon': 'osem-brightness',\n",
      "  'lastMeasurement': '632fb60751771e001b14ad7d',\n",
      "  'sensorType': 'VEML6070',\n",
      "  'title': 'UV-Intensität',\n",
      "  'unit': 'μW/cm²'},\n",
      " {'_id': '617ab96c8b4e03001b05b48e',\n",
      "  'icon': 'osem-cloud',\n",
      "  'lastMeasurement': '632fb60751771e001b14ad82',\n",
      "  'sensorType': 'SDS 011',\n",
      "  'title': 'PM10',\n",
      "  'unit': 'µg/m³'},\n",
      " {'_id': '617ab96c8b4e03001b05b48d',\n",
      "  'icon': 'osem-cloud',\n",
      "  'lastMeasurement': '632fb60751771e001b14ad83',\n",
      "  'sensorType': 'SDS 011',\n",
      "  'title': 'PM2.5',\n",
      "  'unit': 'µg/m³'},\n",
      " {'_id': '617ab96c8b4e03001b05b48c',\n",
      "  'icon': 'osem-humidity',\n",
      "  'lastMeasurement': '632fb60751771e001b14ad84',\n",
      "  'sensorType': 'SMT50',\n",
      "  'title': 'Bodenfeuchte',\n",
      "  'unit': '%'},\n",
      " {'_id': '617ab96c8b4e03001b05b48b',\n",
      "  'icon': 'osem-thermometer',\n",
      "  'lastMeasurement': '632fb60751771e001b14ad85',\n",
      "  'sensorType': 'SMT50',\n",
      "  'title': 'Bodentemperatur',\n",
      "  'unit': '°C'}]\n"
     ]
    }
   ],
   "source": [
    "from pprint import pprint\n",
    "a = {\"name\":\"\\\"Wald der Zukunft\\\" Stadtbergen\",\"exposure\":\"outdoor\",\"sensors\":[{\"title\":\"Temperatur\",\"unit\":\"°C\",\"sensorType\":\"HDC1080\",\"icon\":\"osem-thermometer\",\"_id\":\"617ab96c8b4e03001b05b493\",\"lastMeasurement\":\"632fb60751771e001b14ad80\"},{\"title\":\"rel. Luftfeuchte\",\"unit\":\"%\",\"sensorType\":\"HDC1080\",\"icon\":\"osem-humidity\",\"_id\":\"617ab96c8b4e03001b05b492\",\"lastMeasurement\":\"632fb60751771e001b14ad81\"},{\"_id\":\"617ab96c8b4e03001b05b491\",\"title\":\"Luftdruck\",\"unit\":\"hPa (=mBar)\",\"sensorType\":\"BMP280\",\"icon\":\"osem-barometer\",\"lastMeasurement\":\"632fb60751771e001b14ad7f\"},{\"title\":\"Beleuchtungsstärke\",\"unit\":\"lx\",\"sensorType\":\"TSL45315\",\"icon\":\"osem-brightness\",\"_id\":\"617ab96c8b4e03001b05b490\",\"lastMeasurement\":\"632fb60751771e001b14ad7e\"},{\"title\":\"UV-Intensität\",\"unit\":\"μW/cm²\",\"sensorType\":\"VEML6070\",\"icon\":\"osem-brightness\",\"_id\":\"617ab96c8b4e03001b05b48f\",\"lastMeasurement\":\"632fb60751771e001b14ad7d\"},{\"title\":\"PM10\",\"unit\":\"µg/m³\",\"sensorType\":\"SDS 011\",\"icon\":\"osem-cloud\",\"_id\":\"617ab96c8b4e03001b05b48e\",\"lastMeasurement\":\"632fb60751771e001b14ad82\"},{\"title\":\"PM2.5\",\"unit\":\"µg/m³\",\"sensorType\":\"SDS 011\",\"icon\":\"osem-cloud\",\"_id\":\"617ab96c8b4e03001b05b48d\",\"lastMeasurement\":\"632fb60751771e001b14ad83\"},{\"_id\":\"617ab96c8b4e03001b05b48c\",\"title\":\"Bodenfeuchte\",\"unit\":\"%\",\"sensorType\":\"SMT50\",\"icon\":\"osem-humidity\",\"lastMeasurement\":\"632fb60751771e001b14ad84\"},{\"title\":\"Bodentemperatur\",\"unit\":\"°C\",\"sensorType\":\"SMT50\",\"icon\":\"osem-thermometer\",\"_id\":\"617ab96c8b4e03001b05b48b\",\"lastMeasurement\":\"632fb60751771e001b14ad85\"}],\"model\":\"homeV2WifiFeinstaub\",\"id\":\"617ab96c8b4e03001b05b489\"}\n",
    "pprint(a['sensors'])"
   ]
  },
  {
   "cell_type": "code",
   "execution_count": 4,
   "id": "43855416",
   "metadata": {},
   "outputs": [],
   "source": [
    "BASE_DIR = \"./Data/\"\n",
    "sense_boxes = [\n",
    "    \"617ab96c8b4e03001b05b489\",\n",
    "    \"633315b01ad7df001b349a76\",\n",
    "    \"601307eb571de9001b1b6c6c\"\n",
    "]"
   ]
  },
  {
   "cell_type": "code",
   "execution_count": 6,
   "id": "53436cc3",
   "metadata": {
    "scrolled": true
   },
   "outputs": [],
   "source": [
    "def get_urls(string):\n",
    "    urls = []\n",
    "    for sense_box_id in sense_boxes:\n",
    "        big_string = string\n",
    "        value = sense_box_id\n",
    "        pattern = rf'<a href=\"(\\.\\/{value}[^\"]*)\">'\n",
    "        match = re.search(pattern, big_string)\n",
    "\n",
    "        if match:\n",
    "            urls.append(match.group(1).strip(\".\").rstrip(\"/\"))\n",
    "    \n",
    "    return urls\n",
    "\n",
    "def get_assignment(assignment_dict):\n",
    "    sensor_names = assignment_dict.get(\"sensors\")\n",
    "    \n",
    "    assignment = dict()\n",
    "\n",
    "    for sensor in sensor_names:\n",
    "        assignment[sensor.get('_id')] = {'Title': sensor.get('title'), 'Unit': sensor.get('unit')}\n",
    "    return assignment\n",
    "\n",
    "def get_files(string):\n",
    "    # <a href=\"./617ab96c8b4e03001b05b48b-2022-09-24.csv\">\n",
    "    pattern = r'href=[\"\\']([^\"\\']*?\\.(?:csv|json))[\"\\']'\n",
    "\n",
    "    # Find all matches\n",
    "    matches = [match.strip('.') for match in re.findall(pattern, string)]\n",
    "    return matches\n",
    "\n",
    "# Each URL\n",
    "# Download each file and the json file"
   ]
  },
  {
   "cell_type": "code",
   "execution_count": 7,
   "id": "9d99a832",
   "metadata": {
    "scrolled": true
   },
   "outputs": [
    {
     "name": "stdout",
     "output_type": "stream",
     "text": [
      "2023-12-06 00:00:00\n",
      "2024-06-22 00:00:00\n",
      "2024-06-23 00:00:00\n",
      "2024-06-24 00:00:00\n",
      "2024-06-25 00:00:00\n",
      "2024-06-26 00:00:00\n",
      "2024-06-27 00:00:00\n",
      "2024-06-28 00:00:00 stopped\n"
     ]
    }
   ],
   "source": [
    "start_date = datetime(2023, 9, 28)\n",
    "base_url = 'https://archive.opensensemap.org/'\n",
    "day_count = 800\n",
    "\n",
    "for single_date in (start_date + timedelta(n) for n in range(day_count)):\n",
    "    if single_date.date() > datetime.today().date():\n",
    "        print(single_date, \"stopped\")\n",
    "        break\n",
    "\n",
    "    date = single_date.strftime(format=\"%Y-%m-%d\")\n",
    "    date_folder = BASE_DIR + date\n",
    "\n",
    "    # Check if date has already been scraped\n",
    "    if os.path.exists(date_folder):\n",
    "        continue\n",
    "\n",
    "    # Create the folder\n",
    "    current_directory = os.getcwd()\n",
    "    final_directory = os.path.join(current_directory, date_folder)\n",
    "    os.makedirs(date_folder)\n",
    "\n",
    "    # Get all the Senseboxes sub URLs\n",
    "    urls = get_urls(requests.get(f'https://archive.opensensemap.org/{date}/').text)\n",
    "\n",
    "    for url in urls:\n",
    "        url_folder = date_folder + \"/\" + url\n",
    "        os.makedirs(url_folder)        \n",
    "        \n",
    "        # Wget all the files\n",
    "        # download all the files\n",
    "        for file in get_files(requests.get(f'https://archive.opensensemap.org/{date}{url}').text):\n",
    "            file = f'https://archive.opensensemap.org/{date}{url}{file}'\n",
    "            out_dir = date_folder + url\n",
    "            wget.download(file, out=out_dir, bar=None)\n",
    "        # file = \"https://archive.opensensemap.org/2022-09-24/617ab96c8b4e03001b05b489-_Wald_der_Zukunft__Stadtbergen/617ab96c8b4e03001b05b48b-2022-09-24.csv\"\n",
    "        # wget.download(file, out=date_folder+\"/617ab96c8b4e03001b05b489-_Wald_der_Zukunft__Stadtbergen/\", bar=None)\n",
    "        assignment_file = a  # read the downloaded json file\n",
    "        assignments = get_assignment(assignment_file)\n",
    "\n",
    "        # Load the files into a table for every station and every day solo\n",
    "        #   so you can merge all of them at once instead of step wise.\n",
    "    \n",
    "    print(single_date)\n",
    "    sleep(1.0)"
   ]
  }
 ],
 "metadata": {
  "kernelspec": {
   "display_name": "Python 3 (ipykernel)",
   "language": "python",
   "name": "python3"
  },
  "language_info": {
   "codemirror_mode": {
    "name": "ipython",
    "version": 3
   },
   "file_extension": ".py",
   "mimetype": "text/x-python",
   "name": "python",
   "nbconvert_exporter": "python",
   "pygments_lexer": "ipython3",
   "version": "3.10.5"
  }
 },
 "nbformat": 4,
 "nbformat_minor": 5
}
